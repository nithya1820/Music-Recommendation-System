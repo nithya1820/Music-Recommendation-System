{
 "cells": [
  {
   "cell_type": "code",
   "execution_count": 1,
   "id": "ff583d47-31fc-49e6-9f20-7b26f89d2099",
   "metadata": {},
   "outputs": [
    {
     "name": "stdout",
     "output_type": "stream",
     "text": [
      "Requirement already satisfied: spotipy in c:\\users\\nithy\\appdata\\local\\programs\\python\\python312\\lib\\site-packages (2.24.0)\n",
      "Requirement already satisfied: redis>=3.5.3 in c:\\users\\nithy\\appdata\\local\\programs\\python\\python312\\lib\\site-packages (from spotipy) (5.0.8)\n",
      "Requirement already satisfied: requests>=2.25.0 in c:\\users\\nithy\\appdata\\local\\programs\\python\\python312\\lib\\site-packages (from spotipy) (2.32.3)\n",
      "Requirement already satisfied: urllib3>=1.26.0 in c:\\users\\nithy\\appdata\\local\\programs\\python\\python312\\lib\\site-packages (from spotipy) (2.2.2)\n",
      "Requirement already satisfied: charset-normalizer<4,>=2 in c:\\users\\nithy\\appdata\\local\\programs\\python\\python312\\lib\\site-packages (from requests>=2.25.0->spotipy) (3.3.2)\n",
      "Requirement already satisfied: idna<4,>=2.5 in c:\\users\\nithy\\appdata\\local\\programs\\python\\python312\\lib\\site-packages (from requests>=2.25.0->spotipy) (3.7)\n",
      "Requirement already satisfied: certifi>=2017.4.17 in c:\\users\\nithy\\appdata\\local\\programs\\python\\python312\\lib\\site-packages (from requests>=2.25.0->spotipy) (2024.7.4)\n",
      "Note: you may need to restart the kernel to use updated packages.\n"
     ]
    }
   ],
   "source": [
    "pip install spotipy"
   ]
  },
  {
   "cell_type": "code",
   "execution_count": null,
   "id": "1b48b654-5465-47dd-b9d2-6197d23595b9",
   "metadata": {},
   "outputs": [],
   "source": []
  }
 ],
 "metadata": {
  "kernelspec": {
   "display_name": "venv",
   "language": "python",
   "name": "venv"
  },
  "language_info": {
   "codemirror_mode": {
    "name": "ipython",
    "version": 3
   },
   "file_extension": ".py",
   "mimetype": "text/x-python",
   "name": "python",
   "nbconvert_exporter": "python",
   "pygments_lexer": "ipython3",
   "version": "3.12.5"
  }
 },
 "nbformat": 4,
 "nbformat_minor": 5
}
